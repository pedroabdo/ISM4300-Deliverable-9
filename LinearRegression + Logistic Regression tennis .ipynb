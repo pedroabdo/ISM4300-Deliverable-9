{
 "cells": [
  {
   "cell_type": "markdown",
   "metadata": {},
   "source": [
    "Pedro Nader\n",
    "Assignment 9\n",
    "This project tries to create a model that predicts if a tennis player will win his match or not.\n",
    "Since points won is  a major predictor, it also does a regression to predict how many points a player will win"
   ]
  },
  {
   "attachments": {},
   "cell_type": "markdown",
   "metadata": {},
   "source": [
    "I know from experience that by far the most important factor in determining the winner is the total points won. So we will try to create a linear regression to determine total points won."
   ]
  },
  {
   "attachments": {},
   "cell_type": "markdown",
   "metadata": {},
   "source": [
    "Problem Definition: We are using linear regression, and decision trees to try to predict wether or not a tennis player will win his game based on the stats.\n",
    "\n",
    "Model Evaluation: Not a single model was enough. We had to combine models to accurately predict a win. The decision tree and logistic regression shows that the most important variable is percentage of points won, so we craeted a linear regression that predicts the percentage of points won based on other percentages, and then we can use the output (prediction) of the linear regression as input for the decision tree.\n",
    "\n",
    "Final remarks: In summary, combining multiple models was a good idea. I also had to manipulate the data in a way that doesn't account for total serves or returns in but instead accounts for percentages."
   ]
  },
  {
   "cell_type": "code",
   "execution_count": 379,
   "metadata": {},
   "outputs": [],
   "source": [
    "#Importing everything\n",
    "import pandas as pd\n",
    "import numpy as np\n",
    "import sklearn\n",
    "import matplotlib.pyplot as plt\n",
    "from sklearn.model_selection import train_test_split\n",
    "from sklearn.tree import DecisionTreeClassifier\n",
    "from sklearn.metrics import accuracy_score\n",
    "from sklearn.metrics import confusion_matrix\n",
    "from sklearn.linear_model import LinearRegression\n",
    "from sklearn.linear_model import LogisticRegression\n",
    "from sklearn import metrics\n",
    "\n"
   ]
  },
  {
   "cell_type": "code",
   "execution_count": 380,
   "metadata": {},
   "outputs": [],
   "source": [
    "#Saving stats into df\n",
    "stats = pd.read_json('./Data/match_stats_2017_unindexed_json.json')"
   ]
  },
  {
   "cell_type": "code",
   "execution_count": 381,
   "metadata": {},
   "outputs": [
    {
     "data": {
      "text/plain": [
       "Index(['loser_aces', 'loser_break_points_converted',\n",
       "       'loser_break_points_return_total', 'loser_break_points_saved',\n",
       "       'loser_break_points_serve_total', 'loser_double_faults',\n",
       "       'loser_first_serve_points_total', 'loser_first_serve_points_won',\n",
       "       'loser_first_serve_return_total', 'loser_first_serve_return_won',\n",
       "       'loser_first_serves_in', 'loser_first_serves_total',\n",
       "       'loser_return_games_played', 'loser_return_points_total',\n",
       "       'loser_return_points_won', 'loser_second_serve_points_total',\n",
       "       'loser_second_serve_points_won', 'loser_second_serve_return_total',\n",
       "       'loser_second_serve_return_won', 'loser_service_games_played',\n",
       "       'loser_service_points_total', 'loser_service_points_won',\n",
       "       'loser_total_points_total', 'loser_total_points_won', 'match_duration',\n",
       "       'match_id', 'match_stats_url_suffix', 'match_time', 'tourney_order',\n",
       "       'winner_aces', 'winner_break_points_converted',\n",
       "       'winner_break_points_return_total', 'winner_break_points_saved',\n",
       "       'winner_break_points_serve_total', 'winner_double_faults',\n",
       "       'winner_first_serve_points_total', 'winner_first_serve_points_won',\n",
       "       'winner_first_serve_return_total', 'winner_first_serve_return_won',\n",
       "       'winner_first_serves_in', 'winner_first_serves_total',\n",
       "       'winner_return_games_played', 'winner_return_points_total',\n",
       "       'winner_return_points_won', 'winner_second_serve_points_total',\n",
       "       'winner_second_serve_points_won', 'winner_second_serve_return_total',\n",
       "       'winner_second_serve_return_won', 'winner_service_games_played',\n",
       "       'winner_service_points_total', 'winner_service_points_won',\n",
       "       'winner_total_points_total', 'winner_total_points_won'],\n",
       "      dtype='object')"
      ]
     },
     "execution_count": 381,
     "metadata": {},
     "output_type": "execute_result"
    }
   ],
   "source": [
    "stats.columns  #Using to decisde which columns to use\n"
   ]
  },
  {
   "cell_type": "code",
   "execution_count": 382,
   "metadata": {},
   "outputs": [
    {
     "data": {
      "text/html": [
       "<div>\n",
       "<style scoped>\n",
       "    .dataframe tbody tr th:only-of-type {\n",
       "        vertical-align: middle;\n",
       "    }\n",
       "\n",
       "    .dataframe tbody tr th {\n",
       "        vertical-align: top;\n",
       "    }\n",
       "\n",
       "    .dataframe thead th {\n",
       "        text-align: right;\n",
       "    }\n",
       "</style>\n",
       "<table border=\"1\" class=\"dataframe\">\n",
       "  <thead>\n",
       "    <tr style=\"text-align: right;\">\n",
       "      <th></th>\n",
       "      <th>total_points_won</th>\n",
       "      <th>total_point_played</th>\n",
       "      <th>first_serve_points_won</th>\n",
       "      <th>first_serve_points_played</th>\n",
       "      <th>return_points_won</th>\n",
       "      <th>return_points_played</th>\n",
       "      <th>first_serves_in</th>\n",
       "      <th>first_serves_served</th>\n",
       "      <th>won</th>\n",
       "    </tr>\n",
       "  </thead>\n",
       "  <tbody>\n",
       "    <tr>\n",
       "      <th>0</th>\n",
       "      <td>97</td>\n",
       "      <td>181</td>\n",
       "      <td>50</td>\n",
       "      <td>62</td>\n",
       "      <td>31</td>\n",
       "      <td>84</td>\n",
       "      <td>62</td>\n",
       "      <td>97</td>\n",
       "      <td>1</td>\n",
       "    </tr>\n",
       "    <tr>\n",
       "      <th>1</th>\n",
       "      <td>77</td>\n",
       "      <td>146</td>\n",
       "      <td>41</td>\n",
       "      <td>52</td>\n",
       "      <td>24</td>\n",
       "      <td>69</td>\n",
       "      <td>52</td>\n",
       "      <td>77</td>\n",
       "      <td>1</td>\n",
       "    </tr>\n",
       "    <tr>\n",
       "      <th>2</th>\n",
       "      <td>66</td>\n",
       "      <td>119</td>\n",
       "      <td>27</td>\n",
       "      <td>36</td>\n",
       "      <td>21</td>\n",
       "      <td>61</td>\n",
       "      <td>36</td>\n",
       "      <td>58</td>\n",
       "      <td>1</td>\n",
       "    </tr>\n",
       "    <tr>\n",
       "      <th>3</th>\n",
       "      <td>75</td>\n",
       "      <td>138</td>\n",
       "      <td>37</td>\n",
       "      <td>56</td>\n",
       "      <td>24</td>\n",
       "      <td>61</td>\n",
       "      <td>56</td>\n",
       "      <td>77</td>\n",
       "      <td>1</td>\n",
       "    </tr>\n",
       "    <tr>\n",
       "      <th>4</th>\n",
       "      <td>94</td>\n",
       "      <td>176</td>\n",
       "      <td>42</td>\n",
       "      <td>52</td>\n",
       "      <td>29</td>\n",
       "      <td>82</td>\n",
       "      <td>52</td>\n",
       "      <td>94</td>\n",
       "      <td>1</td>\n",
       "    </tr>\n",
       "    <tr>\n",
       "      <th>...</th>\n",
       "      <td>...</td>\n",
       "      <td>...</td>\n",
       "      <td>...</td>\n",
       "      <td>...</td>\n",
       "      <td>...</td>\n",
       "      <td>...</td>\n",
       "      <td>...</td>\n",
       "      <td>...</td>\n",
       "      <td>...</td>\n",
       "    </tr>\n",
       "    <tr>\n",
       "      <th>3806</th>\n",
       "      <td>38</td>\n",
       "      <td>104</td>\n",
       "      <td>20</td>\n",
       "      <td>32</td>\n",
       "      <td>13</td>\n",
       "      <td>47</td>\n",
       "      <td>32</td>\n",
       "      <td>57</td>\n",
       "      <td>0</td>\n",
       "    </tr>\n",
       "    <tr>\n",
       "      <th>3807</th>\n",
       "      <td>86</td>\n",
       "      <td>183</td>\n",
       "      <td>41</td>\n",
       "      <td>67</td>\n",
       "      <td>27</td>\n",
       "      <td>79</td>\n",
       "      <td>67</td>\n",
       "      <td>104</td>\n",
       "      <td>0</td>\n",
       "    </tr>\n",
       "    <tr>\n",
       "      <th>3808</th>\n",
       "      <td>102</td>\n",
       "      <td>205</td>\n",
       "      <td>49</td>\n",
       "      <td>64</td>\n",
       "      <td>35</td>\n",
       "      <td>104</td>\n",
       "      <td>64</td>\n",
       "      <td>101</td>\n",
       "      <td>0</td>\n",
       "    </tr>\n",
       "    <tr>\n",
       "      <th>3809</th>\n",
       "      <td>28</td>\n",
       "      <td>84</td>\n",
       "      <td>16</td>\n",
       "      <td>34</td>\n",
       "      <td>8</td>\n",
       "      <td>36</td>\n",
       "      <td>34</td>\n",
       "      <td>48</td>\n",
       "      <td>0</td>\n",
       "    </tr>\n",
       "    <tr>\n",
       "      <th>3810</th>\n",
       "      <td>100</td>\n",
       "      <td>213</td>\n",
       "      <td>50</td>\n",
       "      <td>76</td>\n",
       "      <td>31</td>\n",
       "      <td>96</td>\n",
       "      <td>76</td>\n",
       "      <td>117</td>\n",
       "      <td>0</td>\n",
       "    </tr>\n",
       "  </tbody>\n",
       "</table>\n",
       "<p>7622 rows × 9 columns</p>\n",
       "</div>"
      ],
      "text/plain": [
       "      total_points_won  total_point_played  first_serve_points_won  \\\n",
       "0                   97                 181                      50   \n",
       "1                   77                 146                      41   \n",
       "2                   66                 119                      27   \n",
       "3                   75                 138                      37   \n",
       "4                   94                 176                      42   \n",
       "...                ...                 ...                     ...   \n",
       "3806                38                 104                      20   \n",
       "3807                86                 183                      41   \n",
       "3808               102                 205                      49   \n",
       "3809                28                  84                      16   \n",
       "3810               100                 213                      50   \n",
       "\n",
       "      first_serve_points_played  return_points_won  return_points_played  \\\n",
       "0                            62                 31                    84   \n",
       "1                            52                 24                    69   \n",
       "2                            36                 21                    61   \n",
       "3                            56                 24                    61   \n",
       "4                            52                 29                    82   \n",
       "...                         ...                ...                   ...   \n",
       "3806                         32                 13                    47   \n",
       "3807                         67                 27                    79   \n",
       "3808                         64                 35                   104   \n",
       "3809                         34                  8                    36   \n",
       "3810                         76                 31                    96   \n",
       "\n",
       "      first_serves_in  first_serves_served  won  \n",
       "0                  62                   97    1  \n",
       "1                  52                   77    1  \n",
       "2                  36                   58    1  \n",
       "3                  56                   77    1  \n",
       "4                  52                   94    1  \n",
       "...               ...                  ...  ...  \n",
       "3806               32                   57    0  \n",
       "3807               67                  104    0  \n",
       "3808               64                  101    0  \n",
       "3809               34                   48    0  \n",
       "3810               76                  117    0  \n",
       "\n",
       "[7622 rows x 9 columns]"
      ]
     },
     "execution_count": 382,
     "metadata": {},
     "output_type": "execute_result"
    }
   ],
   "source": [
    "#Creating a sub DF that I will use for my model\n",
    "#I first break it down into winner and loser DF then I concatenate them\n",
    "modelDf = pd.DataFrame()\n",
    "\n",
    "winnerDf = pd.DataFrame()\n",
    "winnerDf['total_points_won'] = stats['winner_total_points_won']\n",
    "winnerDf['total_point_played'] = stats['winner_total_points_total']\n",
    "winnerDf['first_serve_points_won'] = stats['winner_first_serve_points_won']\n",
    "winnerDf['first_serve_points_played'] = stats['winner_first_serve_points_total']\n",
    "winnerDf['return_points_won'] = stats['winner_return_points_won']\n",
    "winnerDf['return_points_played'] = stats['winner_return_points_total']\n",
    "winnerDf['first_serves_in'] = stats['winner_first_serves_in']\n",
    "winnerDf['first_serves_served'] = stats['winner_first_serves_total']\n",
    "winnerDf['won'] = 1\n",
    "\n",
    "\n",
    "loserDf = pd.DataFrame()\n",
    "loserDf['total_points_won'] = stats['loser_total_points_won']\n",
    "loserDf['total_point_played'] = stats['loser_total_points_total']\n",
    "loserDf['first_serve_points_won'] = stats['loser_first_serve_points_won']\n",
    "loserDf['first_serve_points_played'] = stats['loser_first_serve_points_total']\n",
    "loserDf['return_points_won'] = stats['loser_return_points_won']\n",
    "loserDf['return_points_played'] = stats['loser_return_points_total']\n",
    "loserDf['first_serves_in'] = stats['loser_first_serves_in']\n",
    "loserDf['first_serves_served'] = stats['loser_first_serves_total']\n",
    "loserDf['won'] = 0\n",
    "\n",
    "\n",
    "\n",
    "modelDf = pd.concat([winnerDf,loserDf]) #Since they have the same column names, they will be stacked on top of each other\n",
    "modelDf"
   ]
  },
  {
   "cell_type": "code",
   "execution_count": 383,
   "metadata": {},
   "outputs": [
    {
     "data": {
      "text/html": [
       "<div>\n",
       "<style scoped>\n",
       "    .dataframe tbody tr th:only-of-type {\n",
       "        vertical-align: middle;\n",
       "    }\n",
       "\n",
       "    .dataframe tbody tr th {\n",
       "        vertical-align: top;\n",
       "    }\n",
       "\n",
       "    .dataframe thead th {\n",
       "        text-align: right;\n",
       "    }\n",
       "</style>\n",
       "<table border=\"1\" class=\"dataframe\">\n",
       "  <thead>\n",
       "    <tr style=\"text-align: right;\">\n",
       "      <th></th>\n",
       "      <th>total_points_won</th>\n",
       "      <th>total_point_played</th>\n",
       "      <th>first_serve_points_won</th>\n",
       "      <th>first_serve_points_played</th>\n",
       "      <th>return_points_won</th>\n",
       "      <th>return_points_played</th>\n",
       "      <th>first_serves_in</th>\n",
       "      <th>first_serves_served</th>\n",
       "      <th>won</th>\n",
       "      <th>percent_points_won</th>\n",
       "      <th>percent_first_serve_points_won</th>\n",
       "      <th>percent_return_points_won</th>\n",
       "      <th>percent_first_serves_in</th>\n",
       "    </tr>\n",
       "  </thead>\n",
       "  <tbody>\n",
       "    <tr>\n",
       "      <th>0</th>\n",
       "      <td>97</td>\n",
       "      <td>181</td>\n",
       "      <td>50</td>\n",
       "      <td>62</td>\n",
       "      <td>31</td>\n",
       "      <td>84</td>\n",
       "      <td>62</td>\n",
       "      <td>97</td>\n",
       "      <td>1</td>\n",
       "      <td>0.535912</td>\n",
       "      <td>0.806452</td>\n",
       "      <td>0.369048</td>\n",
       "      <td>0.639175</td>\n",
       "    </tr>\n",
       "    <tr>\n",
       "      <th>1</th>\n",
       "      <td>77</td>\n",
       "      <td>146</td>\n",
       "      <td>41</td>\n",
       "      <td>52</td>\n",
       "      <td>24</td>\n",
       "      <td>69</td>\n",
       "      <td>52</td>\n",
       "      <td>77</td>\n",
       "      <td>1</td>\n",
       "      <td>0.527397</td>\n",
       "      <td>0.788462</td>\n",
       "      <td>0.347826</td>\n",
       "      <td>0.675325</td>\n",
       "    </tr>\n",
       "    <tr>\n",
       "      <th>2</th>\n",
       "      <td>66</td>\n",
       "      <td>119</td>\n",
       "      <td>27</td>\n",
       "      <td>36</td>\n",
       "      <td>21</td>\n",
       "      <td>61</td>\n",
       "      <td>36</td>\n",
       "      <td>58</td>\n",
       "      <td>1</td>\n",
       "      <td>0.554622</td>\n",
       "      <td>0.750000</td>\n",
       "      <td>0.344262</td>\n",
       "      <td>0.620690</td>\n",
       "    </tr>\n",
       "    <tr>\n",
       "      <th>3</th>\n",
       "      <td>75</td>\n",
       "      <td>138</td>\n",
       "      <td>37</td>\n",
       "      <td>56</td>\n",
       "      <td>24</td>\n",
       "      <td>61</td>\n",
       "      <td>56</td>\n",
       "      <td>77</td>\n",
       "      <td>1</td>\n",
       "      <td>0.543478</td>\n",
       "      <td>0.660714</td>\n",
       "      <td>0.393443</td>\n",
       "      <td>0.727273</td>\n",
       "    </tr>\n",
       "    <tr>\n",
       "      <th>4</th>\n",
       "      <td>94</td>\n",
       "      <td>176</td>\n",
       "      <td>42</td>\n",
       "      <td>52</td>\n",
       "      <td>29</td>\n",
       "      <td>82</td>\n",
       "      <td>52</td>\n",
       "      <td>94</td>\n",
       "      <td>1</td>\n",
       "      <td>0.534091</td>\n",
       "      <td>0.807692</td>\n",
       "      <td>0.353659</td>\n",
       "      <td>0.553191</td>\n",
       "    </tr>\n",
       "    <tr>\n",
       "      <th>...</th>\n",
       "      <td>...</td>\n",
       "      <td>...</td>\n",
       "      <td>...</td>\n",
       "      <td>...</td>\n",
       "      <td>...</td>\n",
       "      <td>...</td>\n",
       "      <td>...</td>\n",
       "      <td>...</td>\n",
       "      <td>...</td>\n",
       "      <td>...</td>\n",
       "      <td>...</td>\n",
       "      <td>...</td>\n",
       "      <td>...</td>\n",
       "    </tr>\n",
       "    <tr>\n",
       "      <th>3806</th>\n",
       "      <td>38</td>\n",
       "      <td>104</td>\n",
       "      <td>20</td>\n",
       "      <td>32</td>\n",
       "      <td>13</td>\n",
       "      <td>47</td>\n",
       "      <td>32</td>\n",
       "      <td>57</td>\n",
       "      <td>0</td>\n",
       "      <td>0.365385</td>\n",
       "      <td>0.625000</td>\n",
       "      <td>0.276596</td>\n",
       "      <td>0.561404</td>\n",
       "    </tr>\n",
       "    <tr>\n",
       "      <th>3807</th>\n",
       "      <td>86</td>\n",
       "      <td>183</td>\n",
       "      <td>41</td>\n",
       "      <td>67</td>\n",
       "      <td>27</td>\n",
       "      <td>79</td>\n",
       "      <td>67</td>\n",
       "      <td>104</td>\n",
       "      <td>0</td>\n",
       "      <td>0.469945</td>\n",
       "      <td>0.611940</td>\n",
       "      <td>0.341772</td>\n",
       "      <td>0.644231</td>\n",
       "    </tr>\n",
       "    <tr>\n",
       "      <th>3808</th>\n",
       "      <td>102</td>\n",
       "      <td>205</td>\n",
       "      <td>49</td>\n",
       "      <td>64</td>\n",
       "      <td>35</td>\n",
       "      <td>104</td>\n",
       "      <td>64</td>\n",
       "      <td>101</td>\n",
       "      <td>0</td>\n",
       "      <td>0.497561</td>\n",
       "      <td>0.765625</td>\n",
       "      <td>0.336538</td>\n",
       "      <td>0.633663</td>\n",
       "    </tr>\n",
       "    <tr>\n",
       "      <th>3809</th>\n",
       "      <td>28</td>\n",
       "      <td>84</td>\n",
       "      <td>16</td>\n",
       "      <td>34</td>\n",
       "      <td>8</td>\n",
       "      <td>36</td>\n",
       "      <td>34</td>\n",
       "      <td>48</td>\n",
       "      <td>0</td>\n",
       "      <td>0.333333</td>\n",
       "      <td>0.470588</td>\n",
       "      <td>0.222222</td>\n",
       "      <td>0.708333</td>\n",
       "    </tr>\n",
       "    <tr>\n",
       "      <th>3810</th>\n",
       "      <td>100</td>\n",
       "      <td>213</td>\n",
       "      <td>50</td>\n",
       "      <td>76</td>\n",
       "      <td>31</td>\n",
       "      <td>96</td>\n",
       "      <td>76</td>\n",
       "      <td>117</td>\n",
       "      <td>0</td>\n",
       "      <td>0.469484</td>\n",
       "      <td>0.657895</td>\n",
       "      <td>0.322917</td>\n",
       "      <td>0.649573</td>\n",
       "    </tr>\n",
       "  </tbody>\n",
       "</table>\n",
       "<p>7616 rows × 13 columns</p>\n",
       "</div>"
      ],
      "text/plain": [
       "      total_points_won  total_point_played  first_serve_points_won  \\\n",
       "0                   97                 181                      50   \n",
       "1                   77                 146                      41   \n",
       "2                   66                 119                      27   \n",
       "3                   75                 138                      37   \n",
       "4                   94                 176                      42   \n",
       "...                ...                 ...                     ...   \n",
       "3806                38                 104                      20   \n",
       "3807                86                 183                      41   \n",
       "3808               102                 205                      49   \n",
       "3809                28                  84                      16   \n",
       "3810               100                 213                      50   \n",
       "\n",
       "      first_serve_points_played  return_points_won  return_points_played  \\\n",
       "0                            62                 31                    84   \n",
       "1                            52                 24                    69   \n",
       "2                            36                 21                    61   \n",
       "3                            56                 24                    61   \n",
       "4                            52                 29                    82   \n",
       "...                         ...                ...                   ...   \n",
       "3806                         32                 13                    47   \n",
       "3807                         67                 27                    79   \n",
       "3808                         64                 35                   104   \n",
       "3809                         34                  8                    36   \n",
       "3810                         76                 31                    96   \n",
       "\n",
       "      first_serves_in  first_serves_served  won  percent_points_won  \\\n",
       "0                  62                   97    1            0.535912   \n",
       "1                  52                   77    1            0.527397   \n",
       "2                  36                   58    1            0.554622   \n",
       "3                  56                   77    1            0.543478   \n",
       "4                  52                   94    1            0.534091   \n",
       "...               ...                  ...  ...                 ...   \n",
       "3806               32                   57    0            0.365385   \n",
       "3807               67                  104    0            0.469945   \n",
       "3808               64                  101    0            0.497561   \n",
       "3809               34                   48    0            0.333333   \n",
       "3810               76                  117    0            0.469484   \n",
       "\n",
       "      percent_first_serve_points_won  percent_return_points_won  \\\n",
       "0                           0.806452                   0.369048   \n",
       "1                           0.788462                   0.347826   \n",
       "2                           0.750000                   0.344262   \n",
       "3                           0.660714                   0.393443   \n",
       "4                           0.807692                   0.353659   \n",
       "...                              ...                        ...   \n",
       "3806                        0.625000                   0.276596   \n",
       "3807                        0.611940                   0.341772   \n",
       "3808                        0.765625                   0.336538   \n",
       "3809                        0.470588                   0.222222   \n",
       "3810                        0.657895                   0.322917   \n",
       "\n",
       "      percent_first_serves_in  \n",
       "0                    0.639175  \n",
       "1                    0.675325  \n",
       "2                    0.620690  \n",
       "3                    0.727273  \n",
       "4                    0.553191  \n",
       "...                       ...  \n",
       "3806                 0.561404  \n",
       "3807                 0.644231  \n",
       "3808                 0.633663  \n",
       "3809                 0.708333  \n",
       "3810                 0.649573  \n",
       "\n",
       "[7616 rows x 13 columns]"
      ]
     },
     "execution_count": 383,
     "metadata": {},
     "output_type": "execute_result"
    }
   ],
   "source": [
    "#Notice how I created Column for percentages\n",
    "modelDf['percent_points_won'] = modelDf['total_points_won'] / modelDf['total_point_played']\n",
    "modelDf['percent_first_serve_points_won'] = modelDf['first_serve_points_won'] / modelDf['first_serve_points_played']\n",
    "modelDf['percent_return_points_won'] = modelDf['return_points_won'] / modelDf['return_points_played']\n",
    "modelDf['percent_first_serves_in'] = modelDf['first_serves_in'] / modelDf['first_serves_served']\n",
    "modelDf.dropna()\n",
    "\n",
    "modelDf = modelDf[(modelDf[['total_points_won','total_point_played','first_serve_points_won','first_serve_points_played','return_points_won','return_points_played','first_serves_in','first_serves_served','percent_points_won','percent_first_serve_points_won','percent_return_points_won','percent_first_serves_in']] != 0).all(axis=1)]\n",
    "\n",
    "\n",
    "\n",
    "modelDf"
   ]
  },
  {
   "cell_type": "code",
   "execution_count": 384,
   "metadata": {},
   "outputs": [],
   "source": [
    "#First create Decision tree with the only input being percentage of points won.\n",
    "logX = modelDf[['percent_points_won']]\n",
    "logY = modelDf['won']"
   ]
  },
  {
   "cell_type": "code",
   "execution_count": 385,
   "metadata": {},
   "outputs": [],
   "source": [
    "logX_train, logX_test, logY_train, logY_test = train_test_split(logX, logY, test_size = 0.2, random_state = 0)"
   ]
  },
  {
   "cell_type": "code",
   "execution_count": 386,
   "metadata": {},
   "outputs": [
    {
     "data": {
      "text/plain": [
       "LogisticRegression(random_state=0)"
      ]
     },
     "execution_count": 386,
     "metadata": {},
     "output_type": "execute_result"
    }
   ],
   "source": [
    "classifier = LogisticRegression(random_state=0)\n",
    "classifier.fit(logX_train,logY_train)"
   ]
  },
  {
   "cell_type": "code",
   "execution_count": 387,
   "metadata": {},
   "outputs": [
    {
     "name": "stdout",
     "output_type": "stream",
     "text": [
      "[1 0 0 ... 0 1 1]\n",
      "[[0.00500296 0.99499704]\n",
      " [0.84842603 0.15157397]\n",
      " [0.83117909 0.16882091]\n",
      " ...\n",
      " [0.88603619 0.11396381]\n",
      " [0.20493156 0.79506844]\n",
      " [0.0579347  0.9420653 ]]\n"
     ]
    }
   ],
   "source": [
    "logY_pred = classifier.predict(logX_test)\n",
    "logY_pred_prob = classifier.predict_proba(logX_test)\n",
    "print(logY_pred)\n",
    "print(logY_pred_prob)\n"
   ]
  },
  {
   "cell_type": "code",
   "execution_count": 388,
   "metadata": {},
   "outputs": [
    {
     "name": "stdout",
     "output_type": "stream",
     "text": [
      "The model can predict if the player will win or lose with  94.68503937007874% accuracy\n"
     ]
    }
   ],
   "source": [
    "print('The model can predict if the player will win or lose with  ' + str(accuracy_score(logY_pred, logY_test)*100) +'% accuracy')"
   ]
  },
  {
   "cell_type": "code",
   "execution_count": 389,
   "metadata": {},
   "outputs": [
    {
     "data": {
      "text/html": [
       "<div>\n",
       "<style scoped>\n",
       "    .dataframe tbody tr th:only-of-type {\n",
       "        vertical-align: middle;\n",
       "    }\n",
       "\n",
       "    .dataframe tbody tr th {\n",
       "        vertical-align: top;\n",
       "    }\n",
       "\n",
       "    .dataframe thead th {\n",
       "        text-align: right;\n",
       "    }\n",
       "</style>\n",
       "<table border=\"1\" class=\"dataframe\">\n",
       "  <thead>\n",
       "    <tr style=\"text-align: right;\">\n",
       "      <th></th>\n",
       "      <th>pred 0</th>\n",
       "      <th>pred 1</th>\n",
       "    </tr>\n",
       "  </thead>\n",
       "  <tbody>\n",
       "    <tr>\n",
       "      <th>actual 0</th>\n",
       "      <td>718</td>\n",
       "      <td>48</td>\n",
       "    </tr>\n",
       "    <tr>\n",
       "      <th>actual 1</th>\n",
       "      <td>33</td>\n",
       "      <td>725</td>\n",
       "    </tr>\n",
       "  </tbody>\n",
       "</table>\n",
       "</div>"
      ],
      "text/plain": [
       "          pred 0  pred 1\n",
       "actual 0     718      48\n",
       "actual 1      33     725"
      ]
     },
     "execution_count": 389,
     "metadata": {},
     "output_type": "execute_result"
    }
   ],
   "source": [
    "#Confusion matrix to test for false positive or false negatives\n",
    "idx = ['actual 0', 'actual 1']\n",
    "cm = pd.DataFrame(confusion_matrix(logY_test, logY_pred),\n",
    "                  columns = ['pred 0', 'pred 1'],\n",
    "                  index= idx)\n",
    "cm"
   ]
  },
  {
   "attachments": {},
   "cell_type": "markdown",
   "metadata": {},
   "source": [
    "#As you can see, the percent of points won is an incredibly good predictor of a win. 90%+ accuracy\n",
    "\n",
    "We will now create a regression that predicts percentage of points won"
   ]
  },
  {
   "cell_type": "code",
   "execution_count": 390,
   "metadata": {},
   "outputs": [],
   "source": [
    "regressionX = modelDf[['percent_first_serve_points_won','percent_return_points_won','percent_first_serves_in']]\n",
    "regressionY = modelDf['percent_points_won']"
   ]
  },
  {
   "cell_type": "code",
   "execution_count": 391,
   "metadata": {},
   "outputs": [],
   "source": [
    "regressionX_train, regressionX_test, regressionY_train, regressionY_test = train_test_split(regressionX, regressionY, test_size = 0.2, random_state = 0)"
   ]
  },
  {
   "cell_type": "code",
   "execution_count": 392,
   "metadata": {},
   "outputs": [
    {
     "data": {
      "text/plain": [
       "LinearRegression()"
      ]
     },
     "execution_count": 392,
     "metadata": {},
     "output_type": "execute_result"
    }
   ],
   "source": [
    "my_regression = LinearRegression()\n",
    "my_regression.fit(regressionX_train,regressionY_train)"
   ]
  },
  {
   "cell_type": "code",
   "execution_count": 393,
   "metadata": {},
   "outputs": [
    {
     "name": "stdout",
     "output_type": "stream",
     "text": [
      "R^2 = 0.8882626007871377\n"
     ]
    }
   ],
   "source": [
    "#Printing R squared\n",
    "print('R^2 = {}'.format(my_regression.score(regressionX_train,regressionY_train)))"
   ]
  },
  {
   "cell_type": "code",
   "execution_count": 394,
   "metadata": {},
   "outputs": [
    {
     "name": "stdout",
     "output_type": "stream",
     "text": [
      "The intercept (b_0) is  0.0071357162752371806\n",
      "The coef (b_1) is  0.33303331926993496\n",
      "The coef (b_2) is  0.4978331156750676\n"
     ]
    }
   ],
   "source": [
    "#Getting all the coeficients to define the regression equation. \n",
    "print('The intercept (b_0) is  {}'.format(my_regression.intercept_))\n",
    "print('The coef (b_1) is  {}'.format(my_regression.coef_[0]))\n",
    "print('The coef (b_2) is  {}'.format(my_regression.coef_[1]))"
   ]
  },
  {
   "cell_type": "code",
   "execution_count": 395,
   "metadata": {},
   "outputs": [],
   "source": [
    "#Saving all the predictions to evaluate performance after\n",
    "regression_prediction = my_regression.predict(regressionX_test)"
   ]
  },
  {
   "cell_type": "code",
   "execution_count": 396,
   "metadata": {},
   "outputs": [
    {
     "name": "stdout",
     "output_type": "stream",
     "text": [
      "Mean Absolute Error: 0.01702092430758223\n",
      "Mean Squared Error: 0.0004938738509342379\n",
      "Root Mean Squared Error: 0.022223272732301107\n"
     ]
    }
   ],
   "source": [
    "#Evaluating the model\n",
    "from sklearn import metrics\n",
    "print('Mean Absolute Error:', metrics.mean_absolute_error(regressionY_test, regression_prediction))\n",
    "print('Mean Squared Error:', metrics.mean_squared_error(regressionY_test, regression_prediction))\n",
    "print('Root Mean Squared Error:', np.sqrt(metrics.mean_squared_error(regressionY_test, regression_prediction)))"
   ]
  },
  {
   "cell_type": "code",
   "execution_count": 397,
   "metadata": {},
   "outputs": [],
   "source": [
    "#Only a mean absolute error of 1%! Meaning our model is pretty good"
   ]
  },
  {
   "cell_type": "code",
   "execution_count": 398,
   "metadata": {},
   "outputs": [],
   "source": [
    "#I will try to create a function that tests for the medium error\n",
    "#This is different beacuase it is calculating the average percetage.\n",
    "# I could use mean absolute error to calculate the absolute points it gets wrong.\n",
    "def error(expected,predicted):\n",
    "        l1 = list(expected)\n",
    "        l2 = list(predicted)\n",
    "        errors = []\n",
    "        for i in range(len(l1)):\n",
    "                thiserror = abs(l1[i] - l2[i])\n",
    "                errors.append(thiserror/l1[i])\n",
    "        return np.mean(errors)"
   ]
  },
  {
   "cell_type": "code",
   "execution_count": 399,
   "metadata": {},
   "outputs": [
    {
     "name": "stdout",
     "output_type": "stream",
     "text": [
      "on average the results are off by 3.5027518520324494%\n"
     ]
    }
   ],
   "source": [
    "print('on average the results are off by {}'.format(str(error(regressionY_test,regression_prediction)*100)) + \"%\")"
   ]
  },
  {
   "attachments": {},
   "cell_type": "markdown",
   "metadata": {},
   "source": [
    "Our regression model works very well to predict percentage of points won! Meaning we have a very good way to predict if the player will win or not!\n",
    "\n",
    "The last step is to combine both models\n",
    "\n",
    "I will create a function for this"
   ]
  },
  {
   "cell_type": "code",
   "execution_count": 400,
   "metadata": {},
   "outputs": [],
   "source": [
    "def predictWin(independentVariablesDF): #Input has to be a pd dataFrame\n",
    "    #Run same thing as before\n",
    "    percentPointsPred = my_regression.predict(independentVariablesDF)\n",
    "    logY_pred = classifier.predict(pd.DataFrame(data=percentPointsPred,columns=['percent_points_won']))\n",
    "    logY_pred_prob = classifier.predict_proba(pd.DataFrame(data=percentPointsPred,columns=['percent_points_won']))\n",
    "    return [logY_pred,logY_pred_prob]"
   ]
  },
  {
   "cell_type": "code",
   "execution_count": 401,
   "metadata": {},
   "outputs": [
    {
     "name": "stdout",
     "output_type": "stream",
     "text": [
      "[array([1, 0, 0, ..., 0, 1, 1]), array([[0.0122054 , 0.9877946 ],\n",
      "       [0.91474383, 0.08525617],\n",
      "       [0.91667117, 0.08332883],\n",
      "       ...,\n",
      "       [0.76404478, 0.23595522],\n",
      "       [0.3079888 , 0.6920112 ],\n",
      "       [0.09904085, 0.90095915]])]\n",
      "1524\n",
      "1524\n"
     ]
    }
   ],
   "source": [
    "#applying to real life\n",
    "finalPred = predictWin(regressionX_test) # With this stats I should win a game\n",
    "print(finalPred) #This gives us the probability of winning\n",
    "print(len(finalPred[0]))\n",
    "print(len(finalPred[1]))\n",
    "\n"
   ]
  },
  {
   "cell_type": "code",
   "execution_count": 402,
   "metadata": {},
   "outputs": [],
   "source": [
    "#Finally, I want to calculate the final accuracy"
   ]
  },
  {
   "cell_type": "code",
   "execution_count": 403,
   "metadata": {},
   "outputs": [
    {
     "name": "stdout",
     "output_type": "stream",
     "text": [
      "The model can predict if the player will win or lose with  89.10761154855643% accuracy\n"
     ]
    }
   ],
   "source": [
    "print('The model can predict if the player will win or lose with  ' + str(accuracy_score(finalPred[0], logY_test)*100) +'% accuracy')"
   ]
  },
  {
   "cell_type": "code",
   "execution_count": 404,
   "metadata": {},
   "outputs": [
    {
     "name": "stderr",
     "output_type": "stream",
     "text": [
      "/Users/pedronader/opt/anaconda3/lib/python3.9/site-packages/sklearn/base.py:450: UserWarning: X does not have valid feature names, but LinearRegression was fitted with feature names\n",
      "  warnings.warn(\n"
     ]
    },
    {
     "data": {
      "text/plain": [
       "[array([1]), array([[0.2588459, 0.7411541]])]"
      ]
     },
     "execution_count": 404,
     "metadata": {},
     "output_type": "execute_result"
    }
   ],
   "source": [
    "predictWin(pd.DataFrame([[0.5,0.6,0.5]])) # This is a real world test from some of my games #Predicts as a win with 74% chance of winning"
   ]
  },
  {
   "cell_type": "code",
   "execution_count": null,
   "metadata": {},
   "outputs": [],
   "source": []
  }
 ],
 "metadata": {
  "kernelspec": {
   "display_name": "Python 3",
   "language": "python",
   "name": "python3"
  },
  "language_info": {
   "codemirror_mode": {
    "name": "ipython",
    "version": 3
   },
   "file_extension": ".py",
   "mimetype": "text/x-python",
   "name": "python",
   "nbconvert_exporter": "python",
   "pygments_lexer": "ipython3",
   "version": "3.9.12"
  },
  "orig_nbformat": 4,
  "vscode": {
   "interpreter": {
    "hash": "31f2aee4e71d21fbe5cf8b01ff0e069b9275f58929596ceb00d14d90e3e16cd6"
   }
  }
 },
 "nbformat": 4,
 "nbformat_minor": 2
}
